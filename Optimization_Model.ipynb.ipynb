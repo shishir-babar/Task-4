{
 "cells": [
  {
   "cell_type": "code",
   "execution_count": 1,
   "id": "62ca7ed1-2a6e-480c-bc95-1d8ac9cd2b53",
   "metadata": {},
   "outputs": [],
   "source": [
    "\"\"\"\n",
    "Optimization Model: Maximizing Factory Profit using Linear Programming\n",
    "\n",
    "Business Problem:\n",
    "A company produces two products using limited resources.\n",
    "Objective: Maximize profit by choosing optimal production levels.\n",
    "\"\"\"\n",
    "\n",
    "from pulp import LpMaximize, LpProblem, LpVariable, LpStatus, value\n",
    "import matplotlib.pyplot as plt\n"
   ]
  },
  {
   "cell_type": "code",
   "execution_count": 2,
   "id": "381fcfc5",
   "metadata": {},
   "outputs": [],
   "source": [
    "model = LpProblem(\"Profit_Optimization\", LpMaximize)\n",
    "\n",
    "# Decision variables\n",
    "A = LpVariable(\"Product_A\", lowBound=0, cat=\"Continuous\")\n",
    "B = LpVariable(\"Product_B\", lowBound=0, cat=\"Continuous\")\n",
    "\n",
    "# Objective: Maximize Profit\n",
    "model += 40 * A + 30 * B, \"Total_Profit\"\n"
   ]
  },
  {
   "cell_type": "code",
   "execution_count": 3,
   "id": "25378724",
   "metadata": {},
   "outputs": [],
   "source": [
    "model += 2 * A + 1 * B <= 100, \"Labor\"\n",
    "model += 3 * A + 4 * B <= 180, \"Raw_Materials\"\n",
    "model += A + 2 * B <= 80, \"Machine_Time\"\n"
   ]
  },
  {
   "cell_type": "code",
   "execution_count": 4,
   "id": "eae7d0a5",
   "metadata": {},
   "outputs": [
    {
     "name": "stdout",
     "output_type": "stream",
     "text": [
      "Status: Optimal\n",
      "Product A: 44.00 units\n",
      "Product B: 12.00 units\n",
      "Maximum Profit: ₹2120.00\n"
     ]
    }
   ],
   "source": [
    "model.solve()\n",
    "\n",
    "print(f\"Status: {LpStatus[model.status]}\")\n",
    "print(f\"Product A: {A.value():.2f} units\")\n",
    "print(f\"Product B: {B.value():.2f} units\")\n",
    "print(f\"Maximum Profit: ₹{value(model.objective):.2f}\")\n"
   ]
  },
  {
   "cell_type": "code",
   "execution_count": 5,
   "id": "a96a600e",
   "metadata": {},
   "outputs": [
    {
     "data": {
      "image/png": "[encoded data removed]",
      "text/plain": [
       "<Figure size 500x400 with 1 Axes>"
      ]
     },
     "metadata": {},
     "output_type": "display_data"
    }
   ],
   "source": [
    "products = ['Product A', 'Product B']\n",
    "quantities = [A.value(), B.value()]\n",
    "\n",
    "plt.figure(figsize=(5, 4))\n",
    "plt.bar(products, quantities, color=['skyblue', 'orange'])\n",
    "plt.title(\"Optimal Production Quantities\")\n",
    "plt.ylabel(\"Units\")\n",
    "plt.grid(True, axis='y', linestyle='--', alpha=0.6)\n",
    "plt.show()\n"
   ]
  },
  {
   "cell_type": "code",
   "execution_count": null,
   "id": "2cfa1221-7c70-46ef-88b4-1065e54d2571",
   "metadata": {},
   "outputs": [],
   "source": []
  }
 ],
 "metadata": {
  "kernelspec": {
   "display_name": "Python 3 (ipykernel)",
   "language": "python",
   "name": "python3"
  },
  "language_info": {
   "codemirror_mode": {
    "name": "ipython",
    "version": 3
   },
   "file_extension": ".py",
   "mimetype": "text/x-python",
   "name": "python",
   "nbconvert_exporter": "python",
   "pygments_lexer": "ipython3",
   "version": "3.11.4"
  }
 },
 "nbformat": 4,
 "nbformat_minor": 5
}
